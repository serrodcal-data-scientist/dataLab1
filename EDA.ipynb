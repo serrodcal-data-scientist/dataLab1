{
 "cells": [
  {
   "cell_type": "markdown",
   "metadata": {},
   "source": [
    "# Exploratory data analysis"
   ]
  },
  {
   "cell_type": "code",
   "execution_count": 1,
   "metadata": {},
   "outputs": [
    {
     "name": "stdout",
     "output_type": "stream",
     "text": [
      "Requirement already satisfied: numpy in /usr/local/lib/python3.7/site-packages (from -r requirements.txt (line 1)) (1.15.1)\n",
      "Requirement already satisfied: pandas in /usr/local/lib/python3.7/site-packages (from -r requirements.txt (line 2)) (0.23.4)\n",
      "Requirement already satisfied: scipy in /usr/local/lib/python3.7/site-packages (from -r requirements.txt (line 3)) (1.1.0)\n",
      "Requirement already satisfied: matplotlib in /usr/local/lib/python3.7/site-packages (from -r requirements.txt (line 4)) (2.2.3)\n",
      "Requirement already satisfied: seaborn in /usr/local/lib/python3.7/site-packages (from -r requirements.txt (line 5)) (0.9.0)\n",
      "Requirement already satisfied: sklearn in /usr/local/lib/python3.7/site-packages (from -r requirements.txt (line 6)) (0.0)\n",
      "Requirement already satisfied: pytz>=2011k in /usr/local/lib/python3.7/site-packages (from pandas->-r requirements.txt (line 2)) (2018.5)\n",
      "Requirement already satisfied: python-dateutil>=2.5.0 in /usr/local/Cellar/ipython/7.5.0/libexec/vendor/lib/python3.7/site-packages (from pandas->-r requirements.txt (line 2)) (2.8.0)\n",
      "Requirement already satisfied: pyparsing!=2.0.4,!=2.1.2,!=2.1.6,>=2.0.1 in /usr/local/lib/python3.7/site-packages (from matplotlib->-r requirements.txt (line 4)) (2.2.0)\n",
      "Requirement already satisfied: kiwisolver>=1.0.1 in /usr/local/lib/python3.7/site-packages (from matplotlib->-r requirements.txt (line 4)) (1.0.1)\n",
      "Requirement already satisfied: cycler>=0.10 in /usr/local/lib/python3.7/site-packages (from matplotlib->-r requirements.txt (line 4)) (0.10.0)\n",
      "Requirement already satisfied: six>=1.10 in /usr/local/Cellar/ipython/7.5.0/libexec/vendor/lib/python3.7/site-packages (from matplotlib->-r requirements.txt (line 4)) (1.12.0)\n",
      "Requirement already satisfied: scikit-learn in /usr/local/lib/python3.7/site-packages (from sklearn->-r requirements.txt (line 6)) (0.19.2)\n",
      "Requirement already satisfied: setuptools in /usr/local/lib/python3.7/site-packages (from kiwisolver>=1.0.1->matplotlib->-r requirements.txt (line 4)) (40.8.0)\n"
     ]
    }
   ],
   "source": [
    "!pip3 install -r requirements.txt"
   ]
  },
  {
   "cell_type": "code",
   "execution_count": 2,
   "metadata": {},
   "outputs": [],
   "source": [
    "import numpy as np\n",
    "import pandas as pd\n",
    "from scipy.io import arff\n",
    "import seaborn as sns\n",
    "import matplotlib.pyplot as plt\n",
    "from sklearn.decomposition import PCA\n",
    "from sklearn.preprocessing import StandardScaler"
   ]
  },
  {
   "cell_type": "code",
   "execution_count": 3,
   "metadata": {},
   "outputs": [],
   "source": [
    "data, meta = arff.loadarff('autos.arff')"
   ]
  },
  {
   "cell_type": "code",
   "execution_count": 4,
   "metadata": {},
   "outputs": [],
   "source": [
    "converters = dict()\n",
    "_ = [converters.update({column:dtype}) for column,dtype in zip(meta.names(),meta.types())]"
   ]
  },
  {
   "cell_type": "code",
   "execution_count": 5,
   "metadata": {},
   "outputs": [],
   "source": [
    "df = pd.DataFrame(data=data, columns=meta.names())"
   ]
  },
  {
   "cell_type": "code",
   "execution_count": 6,
   "metadata": {},
   "outputs": [
    {
     "data": {
      "text/html": [
       "<div>\n",
       "<style scoped>\n",
       "    .dataframe tbody tr th:only-of-type {\n",
       "        vertical-align: middle;\n",
       "    }\n",
       "\n",
       "    .dataframe tbody tr th {\n",
       "        vertical-align: top;\n",
       "    }\n",
       "\n",
       "    .dataframe thead th {\n",
       "        text-align: right;\n",
       "    }\n",
       "</style>\n",
       "<table border=\"1\" class=\"dataframe\">\n",
       "  <thead>\n",
       "    <tr style=\"text-align: right;\">\n",
       "      <th></th>\n",
       "      <th>normalized-losses</th>\n",
       "      <th>make</th>\n",
       "      <th>fuel-type</th>\n",
       "      <th>aspiration</th>\n",
       "      <th>num-of-doors</th>\n",
       "      <th>body-style</th>\n",
       "      <th>drive-wheels</th>\n",
       "      <th>engine-location</th>\n",
       "      <th>wheel-base</th>\n",
       "      <th>length</th>\n",
       "      <th>...</th>\n",
       "      <th>fuel-system</th>\n",
       "      <th>bore</th>\n",
       "      <th>stroke</th>\n",
       "      <th>compression-ratio</th>\n",
       "      <th>horsepower</th>\n",
       "      <th>peak-rpm</th>\n",
       "      <th>city-mpg</th>\n",
       "      <th>highway-mpg</th>\n",
       "      <th>price</th>\n",
       "      <th>symboling</th>\n",
       "    </tr>\n",
       "  </thead>\n",
       "  <tbody>\n",
       "    <tr>\n",
       "      <th>0</th>\n",
       "      <td>NaN</td>\n",
       "      <td>b'alfa-romero'</td>\n",
       "      <td>b'gas'</td>\n",
       "      <td>b'std'</td>\n",
       "      <td>b'two'</td>\n",
       "      <td>b'convertible'</td>\n",
       "      <td>b'rwd'</td>\n",
       "      <td>b'front'</td>\n",
       "      <td>88.6</td>\n",
       "      <td>168.8</td>\n",
       "      <td>...</td>\n",
       "      <td>b'mpfi'</td>\n",
       "      <td>3.47</td>\n",
       "      <td>2.68</td>\n",
       "      <td>9.0</td>\n",
       "      <td>111.0</td>\n",
       "      <td>5000.0</td>\n",
       "      <td>21.0</td>\n",
       "      <td>27.0</td>\n",
       "      <td>13495.0</td>\n",
       "      <td>b'3'</td>\n",
       "    </tr>\n",
       "    <tr>\n",
       "      <th>1</th>\n",
       "      <td>NaN</td>\n",
       "      <td>b'alfa-romero'</td>\n",
       "      <td>b'gas'</td>\n",
       "      <td>b'std'</td>\n",
       "      <td>b'two'</td>\n",
       "      <td>b'convertible'</td>\n",
       "      <td>b'rwd'</td>\n",
       "      <td>b'front'</td>\n",
       "      <td>88.6</td>\n",
       "      <td>168.8</td>\n",
       "      <td>...</td>\n",
       "      <td>b'mpfi'</td>\n",
       "      <td>3.47</td>\n",
       "      <td>2.68</td>\n",
       "      <td>9.0</td>\n",
       "      <td>111.0</td>\n",
       "      <td>5000.0</td>\n",
       "      <td>21.0</td>\n",
       "      <td>27.0</td>\n",
       "      <td>16500.0</td>\n",
       "      <td>b'3'</td>\n",
       "    </tr>\n",
       "    <tr>\n",
       "      <th>2</th>\n",
       "      <td>NaN</td>\n",
       "      <td>b'alfa-romero'</td>\n",
       "      <td>b'gas'</td>\n",
       "      <td>b'std'</td>\n",
       "      <td>b'two'</td>\n",
       "      <td>b'hatchback'</td>\n",
       "      <td>b'rwd'</td>\n",
       "      <td>b'front'</td>\n",
       "      <td>94.5</td>\n",
       "      <td>171.2</td>\n",
       "      <td>...</td>\n",
       "      <td>b'mpfi'</td>\n",
       "      <td>2.68</td>\n",
       "      <td>3.47</td>\n",
       "      <td>9.0</td>\n",
       "      <td>154.0</td>\n",
       "      <td>5000.0</td>\n",
       "      <td>19.0</td>\n",
       "      <td>26.0</td>\n",
       "      <td>16500.0</td>\n",
       "      <td>b'1'</td>\n",
       "    </tr>\n",
       "    <tr>\n",
       "      <th>3</th>\n",
       "      <td>164.0</td>\n",
       "      <td>b'audi'</td>\n",
       "      <td>b'gas'</td>\n",
       "      <td>b'std'</td>\n",
       "      <td>b'four'</td>\n",
       "      <td>b'sedan'</td>\n",
       "      <td>b'fwd'</td>\n",
       "      <td>b'front'</td>\n",
       "      <td>99.8</td>\n",
       "      <td>176.6</td>\n",
       "      <td>...</td>\n",
       "      <td>b'mpfi'</td>\n",
       "      <td>3.19</td>\n",
       "      <td>3.40</td>\n",
       "      <td>10.0</td>\n",
       "      <td>102.0</td>\n",
       "      <td>5500.0</td>\n",
       "      <td>24.0</td>\n",
       "      <td>30.0</td>\n",
       "      <td>13950.0</td>\n",
       "      <td>b'2'</td>\n",
       "    </tr>\n",
       "    <tr>\n",
       "      <th>4</th>\n",
       "      <td>164.0</td>\n",
       "      <td>b'audi'</td>\n",
       "      <td>b'gas'</td>\n",
       "      <td>b'std'</td>\n",
       "      <td>b'four'</td>\n",
       "      <td>b'sedan'</td>\n",
       "      <td>b'4wd'</td>\n",
       "      <td>b'front'</td>\n",
       "      <td>99.4</td>\n",
       "      <td>176.6</td>\n",
       "      <td>...</td>\n",
       "      <td>b'mpfi'</td>\n",
       "      <td>3.19</td>\n",
       "      <td>3.40</td>\n",
       "      <td>8.0</td>\n",
       "      <td>115.0</td>\n",
       "      <td>5500.0</td>\n",
       "      <td>18.0</td>\n",
       "      <td>22.0</td>\n",
       "      <td>17450.0</td>\n",
       "      <td>b'2'</td>\n",
       "    </tr>\n",
       "  </tbody>\n",
       "</table>\n",
       "<p>5 rows × 26 columns</p>\n",
       "</div>"
      ],
      "text/plain": [
       "   normalized-losses            make fuel-type aspiration num-of-doors  \\\n",
       "0                NaN  b'alfa-romero'    b'gas'     b'std'       b'two'   \n",
       "1                NaN  b'alfa-romero'    b'gas'     b'std'       b'two'   \n",
       "2                NaN  b'alfa-romero'    b'gas'     b'std'       b'two'   \n",
       "3              164.0         b'audi'    b'gas'     b'std'      b'four'   \n",
       "4              164.0         b'audi'    b'gas'     b'std'      b'four'   \n",
       "\n",
       "       body-style drive-wheels engine-location  wheel-base  length    ...      \\\n",
       "0  b'convertible'       b'rwd'        b'front'        88.6   168.8    ...       \n",
       "1  b'convertible'       b'rwd'        b'front'        88.6   168.8    ...       \n",
       "2    b'hatchback'       b'rwd'        b'front'        94.5   171.2    ...       \n",
       "3        b'sedan'       b'fwd'        b'front'        99.8   176.6    ...       \n",
       "4        b'sedan'       b'4wd'        b'front'        99.4   176.6    ...       \n",
       "\n",
       "   fuel-system  bore  stroke compression-ratio horsepower  peak-rpm city-mpg  \\\n",
       "0      b'mpfi'  3.47    2.68               9.0      111.0    5000.0     21.0   \n",
       "1      b'mpfi'  3.47    2.68               9.0      111.0    5000.0     21.0   \n",
       "2      b'mpfi'  2.68    3.47               9.0      154.0    5000.0     19.0   \n",
       "3      b'mpfi'  3.19    3.40              10.0      102.0    5500.0     24.0   \n",
       "4      b'mpfi'  3.19    3.40               8.0      115.0    5500.0     18.0   \n",
       "\n",
       "   highway-mpg    price  symboling  \n",
       "0         27.0  13495.0       b'3'  \n",
       "1         27.0  16500.0       b'3'  \n",
       "2         26.0  16500.0       b'1'  \n",
       "3         30.0  13950.0       b'2'  \n",
       "4         22.0  17450.0       b'2'  \n",
       "\n",
       "[5 rows x 26 columns]"
      ]
     },
     "execution_count": 6,
     "metadata": {},
     "output_type": "execute_result"
    }
   ],
   "source": [
    "df.head()"
   ]
  },
  {
   "cell_type": "markdown",
   "metadata": {},
   "source": [
    "## Dataframe overview"
   ]
  },
  {
   "cell_type": "code",
   "execution_count": 7,
   "metadata": {},
   "outputs": [
    {
     "name": "stdout",
     "output_type": "stream",
     "text": [
      "<class 'pandas.core.frame.DataFrame'>\n",
      "RangeIndex: 205 entries, 0 to 204\n",
      "Data columns (total 26 columns):\n",
      "normalized-losses    164 non-null float64\n",
      "make                 205 non-null object\n",
      "fuel-type            205 non-null object\n",
      "aspiration           205 non-null object\n",
      "num-of-doors         205 non-null object\n",
      "body-style           205 non-null object\n",
      "drive-wheels         205 non-null object\n",
      "engine-location      205 non-null object\n",
      "wheel-base           205 non-null float64\n",
      "length               205 non-null float64\n",
      "width                205 non-null float64\n",
      "height               205 non-null float64\n",
      "curb-weight          205 non-null float64\n",
      "engine-type          205 non-null object\n",
      "num-of-cylinders     205 non-null object\n",
      "engine-size          205 non-null float64\n",
      "fuel-system          205 non-null object\n",
      "bore                 201 non-null float64\n",
      "stroke               201 non-null float64\n",
      "compression-ratio    205 non-null float64\n",
      "horsepower           203 non-null float64\n",
      "peak-rpm             203 non-null float64\n",
      "city-mpg             205 non-null float64\n",
      "highway-mpg          205 non-null float64\n",
      "price                201 non-null float64\n",
      "symboling            205 non-null object\n",
      "dtypes: float64(15), object(11)\n",
      "memory usage: 41.7+ KB\n"
     ]
    }
   ],
   "source": [
    "df.info()"
   ]
  },
  {
   "cell_type": "code",
   "execution_count": 8,
   "metadata": {},
   "outputs": [
    {
     "name": "stdout",
     "output_type": "stream",
     "text": [
      "Number of categorical features 11\n",
      "Number of numerical features 15\n"
     ]
    }
   ],
   "source": [
    "print(\"Number of categorical features %i\" %df.select_dtypes(include=['object']).shape[1])\n",
    "print(\"Number of numerical features %i\" %df.select_dtypes(include=['float']).shape[1])"
   ]
  },
  {
   "cell_type": "markdown",
   "metadata": {},
   "source": [
    "# Univariate analysis"
   ]
  },
  {
   "cell_type": "markdown",
   "metadata": {},
   "source": [
    "### Getting only categorical values to inspect them"
   ]
  },
  {
   "cell_type": "code",
   "execution_count": 9,
   "metadata": {},
   "outputs": [
    {
     "data": {
      "text/html": [
       "<div>\n",
       "<style scoped>\n",
       "    .dataframe tbody tr th:only-of-type {\n",
       "        vertical-align: middle;\n",
       "    }\n",
       "\n",
       "    .dataframe tbody tr th {\n",
       "        vertical-align: top;\n",
       "    }\n",
       "\n",
       "    .dataframe thead th {\n",
       "        text-align: right;\n",
       "    }\n",
       "</style>\n",
       "<table border=\"1\" class=\"dataframe\">\n",
       "  <thead>\n",
       "    <tr style=\"text-align: right;\">\n",
       "      <th></th>\n",
       "      <th>make</th>\n",
       "      <th>fuel-type</th>\n",
       "      <th>aspiration</th>\n",
       "      <th>num-of-doors</th>\n",
       "      <th>body-style</th>\n",
       "      <th>drive-wheels</th>\n",
       "      <th>engine-location</th>\n",
       "      <th>engine-type</th>\n",
       "      <th>num-of-cylinders</th>\n",
       "      <th>fuel-system</th>\n",
       "      <th>symboling</th>\n",
       "    </tr>\n",
       "  </thead>\n",
       "  <tbody>\n",
       "    <tr>\n",
       "      <th>0</th>\n",
       "      <td>b'alfa-romero'</td>\n",
       "      <td>b'gas'</td>\n",
       "      <td>b'std'</td>\n",
       "      <td>b'two'</td>\n",
       "      <td>b'convertible'</td>\n",
       "      <td>b'rwd'</td>\n",
       "      <td>b'front'</td>\n",
       "      <td>b'dohc'</td>\n",
       "      <td>b'four'</td>\n",
       "      <td>b'mpfi'</td>\n",
       "      <td>b'3'</td>\n",
       "    </tr>\n",
       "    <tr>\n",
       "      <th>1</th>\n",
       "      <td>b'alfa-romero'</td>\n",
       "      <td>b'gas'</td>\n",
       "      <td>b'std'</td>\n",
       "      <td>b'two'</td>\n",
       "      <td>b'convertible'</td>\n",
       "      <td>b'rwd'</td>\n",
       "      <td>b'front'</td>\n",
       "      <td>b'dohc'</td>\n",
       "      <td>b'four'</td>\n",
       "      <td>b'mpfi'</td>\n",
       "      <td>b'3'</td>\n",
       "    </tr>\n",
       "    <tr>\n",
       "      <th>2</th>\n",
       "      <td>b'alfa-romero'</td>\n",
       "      <td>b'gas'</td>\n",
       "      <td>b'std'</td>\n",
       "      <td>b'two'</td>\n",
       "      <td>b'hatchback'</td>\n",
       "      <td>b'rwd'</td>\n",
       "      <td>b'front'</td>\n",
       "      <td>b'ohcv'</td>\n",
       "      <td>b'six'</td>\n",
       "      <td>b'mpfi'</td>\n",
       "      <td>b'1'</td>\n",
       "    </tr>\n",
       "    <tr>\n",
       "      <th>3</th>\n",
       "      <td>b'audi'</td>\n",
       "      <td>b'gas'</td>\n",
       "      <td>b'std'</td>\n",
       "      <td>b'four'</td>\n",
       "      <td>b'sedan'</td>\n",
       "      <td>b'fwd'</td>\n",
       "      <td>b'front'</td>\n",
       "      <td>b'ohc'</td>\n",
       "      <td>b'four'</td>\n",
       "      <td>b'mpfi'</td>\n",
       "      <td>b'2'</td>\n",
       "    </tr>\n",
       "    <tr>\n",
       "      <th>4</th>\n",
       "      <td>b'audi'</td>\n",
       "      <td>b'gas'</td>\n",
       "      <td>b'std'</td>\n",
       "      <td>b'four'</td>\n",
       "      <td>b'sedan'</td>\n",
       "      <td>b'4wd'</td>\n",
       "      <td>b'front'</td>\n",
       "      <td>b'ohc'</td>\n",
       "      <td>b'five'</td>\n",
       "      <td>b'mpfi'</td>\n",
       "      <td>b'2'</td>\n",
       "    </tr>\n",
       "  </tbody>\n",
       "</table>\n",
       "</div>"
      ],
      "text/plain": [
       "             make fuel-type aspiration num-of-doors      body-style  \\\n",
       "0  b'alfa-romero'    b'gas'     b'std'       b'two'  b'convertible'   \n",
       "1  b'alfa-romero'    b'gas'     b'std'       b'two'  b'convertible'   \n",
       "2  b'alfa-romero'    b'gas'     b'std'       b'two'    b'hatchback'   \n",
       "3         b'audi'    b'gas'     b'std'      b'four'        b'sedan'   \n",
       "4         b'audi'    b'gas'     b'std'      b'four'        b'sedan'   \n",
       "\n",
       "  drive-wheels engine-location engine-type num-of-cylinders fuel-system  \\\n",
       "0       b'rwd'        b'front'     b'dohc'          b'four'     b'mpfi'   \n",
       "1       b'rwd'        b'front'     b'dohc'          b'four'     b'mpfi'   \n",
       "2       b'rwd'        b'front'     b'ohcv'           b'six'     b'mpfi'   \n",
       "3       b'fwd'        b'front'      b'ohc'          b'four'     b'mpfi'   \n",
       "4       b'4wd'        b'front'      b'ohc'          b'five'     b'mpfi'   \n",
       "\n",
       "  symboling  \n",
       "0      b'3'  \n",
       "1      b'3'  \n",
       "2      b'1'  \n",
       "3      b'2'  \n",
       "4      b'2'  "
      ]
     },
     "execution_count": 9,
     "metadata": {},
     "output_type": "execute_result"
    }
   ],
   "source": [
    "cat_df = df.select_dtypes(include=['object']).copy()\n",
    "cat_df.head()"
   ]
  },
  {
   "cell_type": "markdown",
   "metadata": {},
   "source": [
    "### Null-values check"
   ]
  },
  {
   "cell_type": "code",
   "execution_count": 10,
   "metadata": {},
   "outputs": [
    {
     "name": "stdout",
     "output_type": "stream",
     "text": [
      "Nulls found: 0 \n"
     ]
    }
   ],
   "source": [
    "print(\"Nulls found: %i \" %cat_df.isnull().values.sum())"
   ]
  },
  {
   "cell_type": "markdown",
   "metadata": {},
   "source": [
    "### Frequency distributions\n",
    "\n",
    "Looking at the following charts, we realize that information is **not balanced** at all. \n",
    "\n",
    "Here we have a decision to make: **How do we deal with not balanced data?**"
   ]
  },
  {
   "cell_type": "code",
   "execution_count": 11,
   "metadata": {},
   "outputs": [],
   "source": [
    "def plot_all_cat_distributions(dataframe):\n",
    "    \"\"\" Plot every single category frequency distribution in the same cell\"\"\"\n",
    "    max_shape = np.ceil(dataframe.shape[1] / 2)\n",
    "    fig = plt.figure(figsize=(20,40))\n",
    "    for i, col in enumerate(dataframe.columns):\n",
    "        plt.subplot(max_shape, 2, i+1)\n",
    "        _ = sns.countplot(y = col, data = dataframe, order=dataframe[col].value_counts().index)\n",
    "    plt.show()"
   ]
  },
  {
   "cell_type": "code",
   "execution_count": 12,
   "metadata": {},
   "outputs": [
    {
     "data": {
      "image/png": "[encoded data removed]",
      "text/plain": [
       "<Figure size 1440x2880 with 11 Axes>"
      ]
     },
     "metadata": {
      "needs_background": "light"
     },
     "output_type": "display_data"
    }
   ],
   "source": [
    "plot_all_cat_distributions(cat_df)"
   ]
  },
  {
   "cell_type": "markdown",
   "metadata": {},
   "source": [
    "## Getting numerical features to inspect them"
   ]
  },
  {
   "cell_type": "code",
   "execution_count": 13,
   "metadata": {},
   "outputs": [
    {
     "data": {
      "text/html": [
       "<div>\n",
       "<style scoped>\n",
       "    .dataframe tbody tr th:only-of-type {\n",
       "        vertical-align: middle;\n",
       "    }\n",
       "\n",
       "    .dataframe tbody tr th {\n",
       "        vertical-align: top;\n",
       "    }\n",
       "\n",
       "    .dataframe thead th {\n",
       "        text-align: right;\n",
       "    }\n",
       "</style>\n",
       "<table border=\"1\" class=\"dataframe\">\n",
       "  <thead>\n",
       "    <tr style=\"text-align: right;\">\n",
       "      <th></th>\n",
       "      <th>normalized-losses</th>\n",
       "      <th>wheel-base</th>\n",
       "      <th>length</th>\n",
       "      <th>width</th>\n",
       "      <th>height</th>\n",
       "      <th>curb-weight</th>\n",
       "      <th>engine-size</th>\n",
       "      <th>bore</th>\n",
       "      <th>stroke</th>\n",
       "      <th>compression-ratio</th>\n",
       "      <th>horsepower</th>\n",
       "      <th>peak-rpm</th>\n",
       "      <th>city-mpg</th>\n",
       "      <th>highway-mpg</th>\n",
       "      <th>price</th>\n",
       "    </tr>\n",
       "  </thead>\n",
       "  <tbody>\n",
       "    <tr>\n",
       "      <th>0</th>\n",
       "      <td>NaN</td>\n",
       "      <td>88.6</td>\n",
       "      <td>168.8</td>\n",
       "      <td>64.1</td>\n",
       "      <td>48.8</td>\n",
       "      <td>2548.0</td>\n",
       "      <td>130.0</td>\n",
       "      <td>3.47</td>\n",
       "      <td>2.68</td>\n",
       "      <td>9.0</td>\n",
       "      <td>111.0</td>\n",
       "      <td>5000.0</td>\n",
       "      <td>21.0</td>\n",
       "      <td>27.0</td>\n",
       "      <td>13495.0</td>\n",
       "    </tr>\n",
       "    <tr>\n",
       "      <th>1</th>\n",
       "      <td>NaN</td>\n",
       "      <td>88.6</td>\n",
       "      <td>168.8</td>\n",
       "      <td>64.1</td>\n",
       "      <td>48.8</td>\n",
       "      <td>2548.0</td>\n",
       "      <td>130.0</td>\n",
       "      <td>3.47</td>\n",
       "      <td>2.68</td>\n",
       "      <td>9.0</td>\n",
       "      <td>111.0</td>\n",
       "      <td>5000.0</td>\n",
       "      <td>21.0</td>\n",
       "      <td>27.0</td>\n",
       "      <td>16500.0</td>\n",
       "    </tr>\n",
       "    <tr>\n",
       "      <th>2</th>\n",
       "      <td>NaN</td>\n",
       "      <td>94.5</td>\n",
       "      <td>171.2</td>\n",
       "      <td>65.5</td>\n",
       "      <td>52.4</td>\n",
       "      <td>2823.0</td>\n",
       "      <td>152.0</td>\n",
       "      <td>2.68</td>\n",
       "      <td>3.47</td>\n",
       "      <td>9.0</td>\n",
       "      <td>154.0</td>\n",
       "      <td>5000.0</td>\n",
       "      <td>19.0</td>\n",
       "      <td>26.0</td>\n",
       "      <td>16500.0</td>\n",
       "    </tr>\n",
       "    <tr>\n",
       "      <th>3</th>\n",
       "      <td>164.0</td>\n",
       "      <td>99.8</td>\n",
       "      <td>176.6</td>\n",
       "      <td>66.2</td>\n",
       "      <td>54.3</td>\n",
       "      <td>2337.0</td>\n",
       "      <td>109.0</td>\n",
       "      <td>3.19</td>\n",
       "      <td>3.40</td>\n",
       "      <td>10.0</td>\n",
       "      <td>102.0</td>\n",
       "      <td>5500.0</td>\n",
       "      <td>24.0</td>\n",
       "      <td>30.0</td>\n",
       "      <td>13950.0</td>\n",
       "    </tr>\n",
       "    <tr>\n",
       "      <th>4</th>\n",
       "      <td>164.0</td>\n",
       "      <td>99.4</td>\n",
       "      <td>176.6</td>\n",
       "      <td>66.4</td>\n",
       "      <td>54.3</td>\n",
       "      <td>2824.0</td>\n",
       "      <td>136.0</td>\n",
       "      <td>3.19</td>\n",
       "      <td>3.40</td>\n",
       "      <td>8.0</td>\n",
       "      <td>115.0</td>\n",
       "      <td>5500.0</td>\n",
       "      <td>18.0</td>\n",
       "      <td>22.0</td>\n",
       "      <td>17450.0</td>\n",
       "    </tr>\n",
       "  </tbody>\n",
       "</table>\n",
       "</div>"
      ],
      "text/plain": [
       "   normalized-losses  wheel-base  length  width  height  curb-weight  \\\n",
       "0                NaN        88.6   168.8   64.1    48.8       2548.0   \n",
       "1                NaN        88.6   168.8   64.1    48.8       2548.0   \n",
       "2                NaN        94.5   171.2   65.5    52.4       2823.0   \n",
       "3              164.0        99.8   176.6   66.2    54.3       2337.0   \n",
       "4              164.0        99.4   176.6   66.4    54.3       2824.0   \n",
       "\n",
       "   engine-size  bore  stroke  compression-ratio  horsepower  peak-rpm  \\\n",
       "0        130.0  3.47    2.68                9.0       111.0    5000.0   \n",
       "1        130.0  3.47    2.68                9.0       111.0    5000.0   \n",
       "2        152.0  2.68    3.47                9.0       154.0    5000.0   \n",
       "3        109.0  3.19    3.40               10.0       102.0    5500.0   \n",
       "4        136.0  3.19    3.40                8.0       115.0    5500.0   \n",
       "\n",
       "   city-mpg  highway-mpg    price  \n",
       "0      21.0         27.0  13495.0  \n",
       "1      21.0         27.0  16500.0  \n",
       "2      19.0         26.0  16500.0  \n",
       "3      24.0         30.0  13950.0  \n",
       "4      18.0         22.0  17450.0  "
      ]
     },
     "execution_count": 13,
     "metadata": {},
     "output_type": "execute_result"
    }
   ],
   "source": [
    "num_df = df.select_dtypes(include=['float']).copy()\n",
    "num_df.head()"
   ]
  },
  {
   "cell_type": "markdown",
   "metadata": {},
   "source": [
    "### Null-values check\n",
    "\n",
    "As we found null-values, there's another decision to take: **How are we dealing with null-values?**"
   ]
  },
  {
   "cell_type": "code",
   "execution_count": 14,
   "metadata": {},
   "outputs": [
    {
     "name": "stdout",
     "output_type": "stream",
     "text": [
      "Nulls found: 57 \n"
     ]
    }
   ],
   "source": [
    "print(\"Nulls found: %i \" %num_df.isnull().values.sum())"
   ]
  },
  {
   "cell_type": "markdown",
   "metadata": {},
   "source": [
    "### Numerical insights\n",
    "\n",
    "Some of the most interesting plots for numerical values are *boxplots*. They give information about median, quartils, outliers... in just a single plot."
   ]
  },
  {
   "cell_type": "code",
   "execution_count": 15,
   "metadata": {},
   "outputs": [],
   "source": [
    "def plot_all_num_boxplots(dataframe):\n",
    "    \"\"\" Plot every single category frequency distribution in the same cell\"\"\"\n",
    "    max_shape = np.ceil(dataframe.shape[1] / 2)\n",
    "    fig = plt.figure(figsize=(20,40))\n",
    "    for i, col in enumerate(dataframe.columns):\n",
    "        plt.subplot(max_shape, 2, i+1)\n",
    "        _ = sns.boxplot(y = col, data = dataframe, palette='rainbow', order=dataframe[col].value_counts().index, orient='h', linewidth=2.5)\n",
    "    plt.show()"
   ]
  },
  {
   "cell_type": "code",
   "execution_count": 16,
   "metadata": {
    "scrolled": false
   },
   "outputs": [
    {
     "data": {
      "image/png": "[encoded data removed]",
      "text/plain": [
       "<Figure size 1440x2880 with 15 Axes>"
      ]
     },
     "metadata": {
      "needs_background": "light"
     },
     "output_type": "display_data"
    }
   ],
   "source": [
    "plot_all_num_boxplots(num_df)"
   ]
  },
  {
   "cell_type": "markdown",
   "metadata": {},
   "source": [
    "TODO:\n",
    " - ~~Correlation heatmap~~\n",
    " - PCA "
   ]
  },
  {
   "cell_type": "markdown",
   "metadata": {},
   "source": [
    "## Correlation heatmap\n",
    "\n",
    "A good way to quickly check correlations among columns is by visualizing the correlation matrix as a heatmap. White means positive, Black means negative. The stronger the color, the larger the correlation magnitude."
   ]
  },
  {
   "cell_type": "code",
   "execution_count": 17,
   "metadata": {},
   "outputs": [],
   "source": [
    "def correlation_heatmap(corr):\n",
    "    ax = sns.heatmap(corr)"
   ]
  },
  {
   "cell_type": "code",
   "execution_count": 18,
   "metadata": {},
   "outputs": [
    {
     "data": {
      "image/png": "[encoded data removed]",
      "text/plain": [
       "<Figure size 432x288 with 2 Axes>"
      ]
     },
     "metadata": {
      "needs_background": "light"
     },
     "output_type": "display_data"
    }
   ],
   "source": [
    "num_corr = num_df.corr()\n",
    "correlation_heatmap(num_corr)"
   ]
  },
  {
   "cell_type": "markdown",
   "metadata": {},
   "source": [
    "## Principal Component Analysis\n",
    "\n",
    "*TODO*"
   ]
  },
  {
   "cell_type": "markdown",
   "metadata": {},
   "source": [
    "### Standardize the Data\n",
    "\n",
    "*TODO*"
   ]
  },
  {
   "cell_type": "code",
   "execution_count": 19,
   "metadata": {},
   "outputs": [],
   "source": [
    "features = num_df.columns\n",
    "x = num_df.loc[:, features].values\n",
    "# Replace nan for -1\n",
    "nan_values = np.where(np.isnan(x))\n",
    "x[nan_values] = -1\n",
    "x = StandardScaler().fit_transform(x)\n",
    "sc_num_df = pd.DataFrame(data = x, columns = features)"
   ]
  },
  {
   "cell_type": "markdown",
   "metadata": {},
   "source": [
    "### PCA Projection\n",
    "\n",
    "*TODO*"
   ]
  },
  {
   "cell_type": "code",
   "execution_count": 23,
   "metadata": {},
   "outputs": [],
   "source": [
    "pca = PCA(n_components=2)\n",
    "principal_components = pca.fit_transform(x)\n",
    "#TODO"
   ]
  },
  {
   "cell_type": "code",
   "execution_count": 21,
   "metadata": {},
   "outputs": [
    {
     "data": {
      "text/html": [
       "<div>\n",
       "<style scoped>\n",
       "    .dataframe tbody tr th:only-of-type {\n",
       "        vertical-align: middle;\n",
       "    }\n",
       "\n",
       "    .dataframe tbody tr th {\n",
       "        vertical-align: top;\n",
       "    }\n",
       "\n",
       "    .dataframe thead th {\n",
       "        text-align: right;\n",
       "    }\n",
       "</style>\n",
       "<table border=\"1\" class=\"dataframe\">\n",
       "  <thead>\n",
       "    <tr style=\"text-align: right;\">\n",
       "      <th></th>\n",
       "      <th>make</th>\n",
       "      <th>fuel-type</th>\n",
       "      <th>aspiration</th>\n",
       "      <th>num-of-doors</th>\n",
       "      <th>body-style</th>\n",
       "      <th>drive-wheels</th>\n",
       "      <th>engine-location</th>\n",
       "      <th>engine-type</th>\n",
       "      <th>num-of-cylinders</th>\n",
       "      <th>symboling</th>\n",
       "      <th>fuel-system_b'1bbl'</th>\n",
       "      <th>fuel-system_b'2bbl'</th>\n",
       "      <th>fuel-system_b'4bbl'</th>\n",
       "      <th>fuel-system_b'idi'</th>\n",
       "      <th>fuel-system_b'mfi'</th>\n",
       "      <th>fuel-system_b'mpfi'</th>\n",
       "      <th>fuel-system_b'spdi'</th>\n",
       "      <th>fuel-system_b'spfi'</th>\n",
       "    </tr>\n",
       "  </thead>\n",
       "  <tbody>\n",
       "    <tr>\n",
       "      <th>0</th>\n",
       "      <td>b'alfa-romero'</td>\n",
       "      <td>b'gas'</td>\n",
       "      <td>b'std'</td>\n",
       "      <td>b'two'</td>\n",
       "      <td>b'convertible'</td>\n",
       "      <td>b'rwd'</td>\n",
       "      <td>b'front'</td>\n",
       "      <td>b'dohc'</td>\n",
       "      <td>b'four'</td>\n",
       "      <td>b'3'</td>\n",
       "      <td>0</td>\n",
       "      <td>0</td>\n",
       "      <td>0</td>\n",
       "      <td>0</td>\n",
       "      <td>0</td>\n",
       "      <td>1</td>\n",
       "      <td>0</td>\n",
       "      <td>0</td>\n",
       "    </tr>\n",
       "    <tr>\n",
       "      <th>1</th>\n",
       "      <td>b'alfa-romero'</td>\n",
       "      <td>b'gas'</td>\n",
       "      <td>b'std'</td>\n",
       "      <td>b'two'</td>\n",
       "      <td>b'convertible'</td>\n",
       "      <td>b'rwd'</td>\n",
       "      <td>b'front'</td>\n",
       "      <td>b'dohc'</td>\n",
       "      <td>b'four'</td>\n",
       "      <td>b'3'</td>\n",
       "      <td>0</td>\n",
       "      <td>0</td>\n",
       "      <td>0</td>\n",
       "      <td>0</td>\n",
       "      <td>0</td>\n",
       "      <td>1</td>\n",
       "      <td>0</td>\n",
       "      <td>0</td>\n",
       "    </tr>\n",
       "    <tr>\n",
       "      <th>2</th>\n",
       "      <td>b'alfa-romero'</td>\n",
       "      <td>b'gas'</td>\n",
       "      <td>b'std'</td>\n",
       "      <td>b'two'</td>\n",
       "      <td>b'hatchback'</td>\n",
       "      <td>b'rwd'</td>\n",
       "      <td>b'front'</td>\n",
       "      <td>b'ohcv'</td>\n",
       "      <td>b'six'</td>\n",
       "      <td>b'1'</td>\n",
       "      <td>0</td>\n",
       "      <td>0</td>\n",
       "      <td>0</td>\n",
       "      <td>0</td>\n",
       "      <td>0</td>\n",
       "      <td>1</td>\n",
       "      <td>0</td>\n",
       "      <td>0</td>\n",
       "    </tr>\n",
       "    <tr>\n",
       "      <th>3</th>\n",
       "      <td>b'audi'</td>\n",
       "      <td>b'gas'</td>\n",
       "      <td>b'std'</td>\n",
       "      <td>b'four'</td>\n",
       "      <td>b'sedan'</td>\n",
       "      <td>b'fwd'</td>\n",
       "      <td>b'front'</td>\n",
       "      <td>b'ohc'</td>\n",
       "      <td>b'four'</td>\n",
       "      <td>b'2'</td>\n",
       "      <td>0</td>\n",
       "      <td>0</td>\n",
       "      <td>0</td>\n",
       "      <td>0</td>\n",
       "      <td>0</td>\n",
       "      <td>1</td>\n",
       "      <td>0</td>\n",
       "      <td>0</td>\n",
       "    </tr>\n",
       "    <tr>\n",
       "      <th>4</th>\n",
       "      <td>b'audi'</td>\n",
       "      <td>b'gas'</td>\n",
       "      <td>b'std'</td>\n",
       "      <td>b'four'</td>\n",
       "      <td>b'sedan'</td>\n",
       "      <td>b'4wd'</td>\n",
       "      <td>b'front'</td>\n",
       "      <td>b'ohc'</td>\n",
       "      <td>b'five'</td>\n",
       "      <td>b'2'</td>\n",
       "      <td>0</td>\n",
       "      <td>0</td>\n",
       "      <td>0</td>\n",
       "      <td>0</td>\n",
       "      <td>0</td>\n",
       "      <td>1</td>\n",
       "      <td>0</td>\n",
       "      <td>0</td>\n",
       "    </tr>\n",
       "  </tbody>\n",
       "</table>\n",
       "</div>"
      ],
      "text/plain": [
       "             make fuel-type aspiration num-of-doors      body-style  \\\n",
       "0  b'alfa-romero'    b'gas'     b'std'       b'two'  b'convertible'   \n",
       "1  b'alfa-romero'    b'gas'     b'std'       b'two'  b'convertible'   \n",
       "2  b'alfa-romero'    b'gas'     b'std'       b'two'    b'hatchback'   \n",
       "3         b'audi'    b'gas'     b'std'      b'four'        b'sedan'   \n",
       "4         b'audi'    b'gas'     b'std'      b'four'        b'sedan'   \n",
       "\n",
       "  drive-wheels engine-location engine-type num-of-cylinders symboling  \\\n",
       "0       b'rwd'        b'front'     b'dohc'          b'four'      b'3'   \n",
       "1       b'rwd'        b'front'     b'dohc'          b'four'      b'3'   \n",
       "2       b'rwd'        b'front'     b'ohcv'           b'six'      b'1'   \n",
       "3       b'fwd'        b'front'      b'ohc'          b'four'      b'2'   \n",
       "4       b'4wd'        b'front'      b'ohc'          b'five'      b'2'   \n",
       "\n",
       "   fuel-system_b'1bbl'  fuel-system_b'2bbl'  fuel-system_b'4bbl'  \\\n",
       "0                    0                    0                    0   \n",
       "1                    0                    0                    0   \n",
       "2                    0                    0                    0   \n",
       "3                    0                    0                    0   \n",
       "4                    0                    0                    0   \n",
       "\n",
       "   fuel-system_b'idi'  fuel-system_b'mfi'  fuel-system_b'mpfi'  \\\n",
       "0                   0                   0                    1   \n",
       "1                   0                   0                    1   \n",
       "2                   0                   0                    1   \n",
       "3                   0                   0                    1   \n",
       "4                   0                   0                    1   \n",
       "\n",
       "   fuel-system_b'spdi'  fuel-system_b'spfi'  \n",
       "0                    0                    0  \n",
       "1                    0                    0  \n",
       "2                    0                    0  \n",
       "3                    0                    0  \n",
       "4                    0                    0  "
      ]
     },
     "execution_count": 21,
     "metadata": {},
     "output_type": "execute_result"
    }
   ],
   "source": [
    "cat_df_onehot = cat_df.copy()\n",
    "cat_df_onehot = pd.get_dummies(cat_df_onehot, columns=['fuel-system'], prefix = ['fuel-system'])\n",
    "cat_df_onehot.head()"
   ]
  },
  {
   "cell_type": "markdown",
   "metadata": {},
   "source": []
  }
 ],
 "metadata": {
  "kernelspec": {
   "display_name": "Python 3",
   "language": "python",
   "name": "python3"
  },
  "language_info": {
   "codemirror_mode": {
    "name": "ipython",
    "version": 3
   },
   "file_extension": ".py",
   "mimetype": "text/x-python",
   "name": "python",
   "nbconvert_exporter": "python",
   "pygments_lexer": "ipython3",
   "version": "3.7.3"
  }
 },
 "nbformat": 4,
 "nbformat_minor": 2
}
