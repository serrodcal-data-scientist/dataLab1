{
 "cells": [
  {
   "cell_type": "markdown",
   "metadata": {},
   "source": [
    "# Exploratory data analysis"
   ]
  },
  {
   "cell_type": "code",
   "execution_count": 1,
   "metadata": {},
   "outputs": [
    {
     "name": "stdout",
     "output_type": "stream",
     "text": [
      "Requirement already satisfied: numpy in /usr/local/lib/python3.7/site-packages (from -r requirements.txt (line 1)) (1.15.1)\r\n",
      "Requirement already satisfied: pandas in /usr/local/lib/python3.7/site-packages (from -r requirements.txt (line 2)) (0.23.4)\r\n",
      "Requirement already satisfied: scipy in /usr/local/lib/python3.7/site-packages (from -r requirements.txt (line 3)) (1.1.0)\r\n",
      "Requirement already satisfied: matplotlib in /usr/local/lib/python3.7/site-packages (from -r requirements.txt (line 4)) (2.2.3)\r\n",
      "Requirement already satisfied: seaborn in /usr/local/lib/python3.7/site-packages (from -r requirements.txt (line 5)) (0.9.0)\r\n",
      "Requirement already satisfied: sklearn in /usr/local/lib/python3.7/site-packages (from -r requirements.txt (line 6)) (0.0)\r\n",
      "Requirement already satisfied: pytz>=2011k in /usr/local/lib/python3.7/site-packages (from pandas->-r requirements.txt (line 2)) (2018.5)\r\n",
      "Requirement already satisfied: python-dateutil>=2.5.0 in /usr/local/Cellar/ipython/7.5.0/libexec/vendor/lib/python3.7/site-packages (from pandas->-r requirements.txt (line 2)) (2.8.0)\r\n",
      "Requirement already satisfied: kiwisolver>=1.0.1 in /usr/local/lib/python3.7/site-packages (from matplotlib->-r requirements.txt (line 4)) (1.0.1)\r\n",
      "Requirement already satisfied: pyparsing!=2.0.4,!=2.1.2,!=2.1.6,>=2.0.1 in /usr/local/lib/python3.7/site-packages (from matplotlib->-r requirements.txt (line 4)) (2.2.0)\r\n",
      "Requirement already satisfied: six>=1.10 in /usr/local/Cellar/ipython/7.5.0/libexec/vendor/lib/python3.7/site-packages (from matplotlib->-r requirements.txt (line 4)) (1.12.0)\r\n",
      "Requirement already satisfied: cycler>=0.10 in /usr/local/lib/python3.7/site-packages (from matplotlib->-r requirements.txt (line 4)) (0.10.0)\r\n",
      "Requirement already satisfied: scikit-learn in /usr/local/lib/python3.7/site-packages (from sklearn->-r requirements.txt (line 6)) (0.19.2)\r\n",
      "Requirement already satisfied: setuptools in /usr/local/lib/python3.7/site-packages (from kiwisolver>=1.0.1->matplotlib->-r requirements.txt (line 4)) (40.8.0)\r\n"
     ]
    }
   ],
   "source": [
    "!pip3 install -r requirements.txt"
   ]
  },
  {
   "cell_type": "code",
   "execution_count": 2,
   "metadata": {},
   "outputs": [],
   "source": [
    "import numpy as np\n",
    "import pandas as pd\n",
    "from scipy.io import arff\n",
    "import seaborn as sns\n",
    "import matplotlib.pyplot as plt\n",
    "\n",
    "#from sklearn.preprocessing import OneHotEncoder"
   ]
  },
  {
   "cell_type": "code",
   "execution_count": 3,
   "metadata": {},
   "outputs": [],
   "source": [
    "data, meta = arff.loadarff('autos.arff')"
   ]
  },
  {
   "cell_type": "code",
   "execution_count": 4,
   "metadata": {},
   "outputs": [],
   "source": [
    "converters = dict()\n",
    "_ = [converters.update({column:dtype}) for column,dtype in zip(meta.names(),meta.types())]"
   ]
  },
  {
   "cell_type": "code",
   "execution_count": 5,
   "metadata": {},
   "outputs": [],
   "source": [
    "df = pd.DataFrame(data=data, columns=meta.names())"
   ]
  },
  {
   "cell_type": "code",
   "execution_count": 6,
   "metadata": {},
   "outputs": [
    {
     "data": {
      "text/html": [
       "<div>\n",
       "<style scoped>\n",
       "    .dataframe tbody tr th:only-of-type {\n",
       "        vertical-align: middle;\n",
       "    }\n",
       "\n",
       "    .dataframe tbody tr th {\n",
       "        vertical-align: top;\n",
       "    }\n",
       "\n",
       "    .dataframe thead th {\n",
       "        text-align: right;\n",
       "    }\n",
       "</style>\n",
       "<table border=\"1\" class=\"dataframe\">\n",
       "  <thead>\n",
       "    <tr style=\"text-align: right;\">\n",
       "      <th></th>\n",
       "      <th>normalized-losses</th>\n",
       "      <th>make</th>\n",
       "      <th>fuel-type</th>\n",
       "      <th>aspiration</th>\n",
       "      <th>num-of-doors</th>\n",
       "      <th>body-style</th>\n",
       "      <th>drive-wheels</th>\n",
       "      <th>engine-location</th>\n",
       "      <th>wheel-base</th>\n",
       "      <th>length</th>\n",
       "      <th>...</th>\n",
       "      <th>fuel-system</th>\n",
       "      <th>bore</th>\n",
       "      <th>stroke</th>\n",
       "      <th>compression-ratio</th>\n",
       "      <th>horsepower</th>\n",
       "      <th>peak-rpm</th>\n",
       "      <th>city-mpg</th>\n",
       "      <th>highway-mpg</th>\n",
       "      <th>price</th>\n",
       "      <th>symboling</th>\n",
       "    </tr>\n",
       "  </thead>\n",
       "  <tbody>\n",
       "    <tr>\n",
       "      <th>0</th>\n",
       "      <td>NaN</td>\n",
       "      <td>b'alfa-romero'</td>\n",
       "      <td>b'gas'</td>\n",
       "      <td>b'std'</td>\n",
       "      <td>b'two'</td>\n",
       "      <td>b'convertible'</td>\n",
       "      <td>b'rwd'</td>\n",
       "      <td>b'front'</td>\n",
       "      <td>88.6</td>\n",
       "      <td>168.8</td>\n",
       "      <td>...</td>\n",
       "      <td>b'mpfi'</td>\n",
       "      <td>3.47</td>\n",
       "      <td>2.68</td>\n",
       "      <td>9.0</td>\n",
       "      <td>111.0</td>\n",
       "      <td>5000.0</td>\n",
       "      <td>21.0</td>\n",
       "      <td>27.0</td>\n",
       "      <td>13495.0</td>\n",
       "      <td>b'3'</td>\n",
       "    </tr>\n",
       "    <tr>\n",
       "      <th>1</th>\n",
       "      <td>NaN</td>\n",
       "      <td>b'alfa-romero'</td>\n",
       "      <td>b'gas'</td>\n",
       "      <td>b'std'</td>\n",
       "      <td>b'two'</td>\n",
       "      <td>b'convertible'</td>\n",
       "      <td>b'rwd'</td>\n",
       "      <td>b'front'</td>\n",
       "      <td>88.6</td>\n",
       "      <td>168.8</td>\n",
       "      <td>...</td>\n",
       "      <td>b'mpfi'</td>\n",
       "      <td>3.47</td>\n",
       "      <td>2.68</td>\n",
       "      <td>9.0</td>\n",
       "      <td>111.0</td>\n",
       "      <td>5000.0</td>\n",
       "      <td>21.0</td>\n",
       "      <td>27.0</td>\n",
       "      <td>16500.0</td>\n",
       "      <td>b'3'</td>\n",
       "    </tr>\n",
       "    <tr>\n",
       "      <th>2</th>\n",
       "      <td>NaN</td>\n",
       "      <td>b'alfa-romero'</td>\n",
       "      <td>b'gas'</td>\n",
       "      <td>b'std'</td>\n",
       "      <td>b'two'</td>\n",
       "      <td>b'hatchback'</td>\n",
       "      <td>b'rwd'</td>\n",
       "      <td>b'front'</td>\n",
       "      <td>94.5</td>\n",
       "      <td>171.2</td>\n",
       "      <td>...</td>\n",
       "      <td>b'mpfi'</td>\n",
       "      <td>2.68</td>\n",
       "      <td>3.47</td>\n",
       "      <td>9.0</td>\n",
       "      <td>154.0</td>\n",
       "      <td>5000.0</td>\n",
       "      <td>19.0</td>\n",
       "      <td>26.0</td>\n",
       "      <td>16500.0</td>\n",
       "      <td>b'1'</td>\n",
       "    </tr>\n",
       "    <tr>\n",
       "      <th>3</th>\n",
       "      <td>164.0</td>\n",
       "      <td>b'audi'</td>\n",
       "      <td>b'gas'</td>\n",
       "      <td>b'std'</td>\n",
       "      <td>b'four'</td>\n",
       "      <td>b'sedan'</td>\n",
       "      <td>b'fwd'</td>\n",
       "      <td>b'front'</td>\n",
       "      <td>99.8</td>\n",
       "      <td>176.6</td>\n",
       "      <td>...</td>\n",
       "      <td>b'mpfi'</td>\n",
       "      <td>3.19</td>\n",
       "      <td>3.40</td>\n",
       "      <td>10.0</td>\n",
       "      <td>102.0</td>\n",
       "      <td>5500.0</td>\n",
       "      <td>24.0</td>\n",
       "      <td>30.0</td>\n",
       "      <td>13950.0</td>\n",
       "      <td>b'2'</td>\n",
       "    </tr>\n",
       "    <tr>\n",
       "      <th>4</th>\n",
       "      <td>164.0</td>\n",
       "      <td>b'audi'</td>\n",
       "      <td>b'gas'</td>\n",
       "      <td>b'std'</td>\n",
       "      <td>b'four'</td>\n",
       "      <td>b'sedan'</td>\n",
       "      <td>b'4wd'</td>\n",
       "      <td>b'front'</td>\n",
       "      <td>99.4</td>\n",
       "      <td>176.6</td>\n",
       "      <td>...</td>\n",
       "      <td>b'mpfi'</td>\n",
       "      <td>3.19</td>\n",
       "      <td>3.40</td>\n",
       "      <td>8.0</td>\n",
       "      <td>115.0</td>\n",
       "      <td>5500.0</td>\n",
       "      <td>18.0</td>\n",
       "      <td>22.0</td>\n",
       "      <td>17450.0</td>\n",
       "      <td>b'2'</td>\n",
       "    </tr>\n",
       "  </tbody>\n",
       "</table>\n",
       "<p>5 rows × 26 columns</p>\n",
       "</div>"
      ],
      "text/plain": [
       "   normalized-losses            make fuel-type aspiration num-of-doors  \\\n",
       "0                NaN  b'alfa-romero'    b'gas'     b'std'       b'two'   \n",
       "1                NaN  b'alfa-romero'    b'gas'     b'std'       b'two'   \n",
       "2                NaN  b'alfa-romero'    b'gas'     b'std'       b'two'   \n",
       "3              164.0         b'audi'    b'gas'     b'std'      b'four'   \n",
       "4              164.0         b'audi'    b'gas'     b'std'      b'four'   \n",
       "\n",
       "       body-style drive-wheels engine-location  wheel-base  length    ...      \\\n",
       "0  b'convertible'       b'rwd'        b'front'        88.6   168.8    ...       \n",
       "1  b'convertible'       b'rwd'        b'front'        88.6   168.8    ...       \n",
       "2    b'hatchback'       b'rwd'        b'front'        94.5   171.2    ...       \n",
       "3        b'sedan'       b'fwd'        b'front'        99.8   176.6    ...       \n",
       "4        b'sedan'       b'4wd'        b'front'        99.4   176.6    ...       \n",
       "\n",
       "   fuel-system  bore  stroke compression-ratio horsepower  peak-rpm city-mpg  \\\n",
       "0      b'mpfi'  3.47    2.68               9.0      111.0    5000.0     21.0   \n",
       "1      b'mpfi'  3.47    2.68               9.0      111.0    5000.0     21.0   \n",
       "2      b'mpfi'  2.68    3.47               9.0      154.0    5000.0     19.0   \n",
       "3      b'mpfi'  3.19    3.40              10.0      102.0    5500.0     24.0   \n",
       "4      b'mpfi'  3.19    3.40               8.0      115.0    5500.0     18.0   \n",
       "\n",
       "   highway-mpg    price  symboling  \n",
       "0         27.0  13495.0       b'3'  \n",
       "1         27.0  16500.0       b'3'  \n",
       "2         26.0  16500.0       b'1'  \n",
       "3         30.0  13950.0       b'2'  \n",
       "4         22.0  17450.0       b'2'  \n",
       "\n",
       "[5 rows x 26 columns]"
      ]
     },
     "execution_count": 6,
     "metadata": {},
     "output_type": "execute_result"
    }
   ],
   "source": [
    "df.head()"
   ]
  },
  {
   "cell_type": "code",
   "execution_count": 7,
   "metadata": {},
   "outputs": [
    {
     "name": "stdout",
     "output_type": "stream",
     "text": [
      "<class 'pandas.core.frame.DataFrame'>\n",
      "RangeIndex: 205 entries, 0 to 204\n",
      "Data columns (total 26 columns):\n",
      "normalized-losses    164 non-null float64\n",
      "make                 205 non-null object\n",
      "fuel-type            205 non-null object\n",
      "aspiration           205 non-null object\n",
      "num-of-doors         205 non-null object\n",
      "body-style           205 non-null object\n",
      "drive-wheels         205 non-null object\n",
      "engine-location      205 non-null object\n",
      "wheel-base           205 non-null float64\n",
      "length               205 non-null float64\n",
      "width                205 non-null float64\n",
      "height               205 non-null float64\n",
      "curb-weight          205 non-null float64\n",
      "engine-type          205 non-null object\n",
      "num-of-cylinders     205 non-null object\n",
      "engine-size          205 non-null float64\n",
      "fuel-system          205 non-null object\n",
      "bore                 201 non-null float64\n",
      "stroke               201 non-null float64\n",
      "compression-ratio    205 non-null float64\n",
      "horsepower           203 non-null float64\n",
      "peak-rpm             203 non-null float64\n",
      "city-mpg             205 non-null float64\n",
      "highway-mpg          205 non-null float64\n",
      "price                201 non-null float64\n",
      "symboling            205 non-null object\n",
      "dtypes: float64(15), object(11)\n",
      "memory usage: 41.7+ KB\n"
     ]
    }
   ],
   "source": [
    "# Show some info to gather some information about different column in the DataFrame\n",
    "df.info()"
   ]
  },
  {
   "cell_type": "code",
   "execution_count": 8,
   "metadata": {},
   "outputs": [
    {
     "data": {
      "text/plain": [
       "<matplotlib.axes._subplots.AxesSubplot at 0x11a738b70>"
      ]
     },
     "execution_count": 8,
     "metadata": {},
     "output_type": "execute_result"
    },
    {
     "data": {
      "image/png": "[encoded data removed]",
      "text/plain": [
       "<Figure size 360x432 with 1 Axes>"
      ]
     },
     "metadata": {
      "needs_background": "light"
     },
     "output_type": "display_data"
    }
   ],
   "source": [
    "# Here, I plot a boxplot of the legth column with respect to the two fuel-types of the autos from diesel and gas.\n",
    "df.boxplot('length','fuel-type',rot = 30,figsize=(5,6))"
   ]
  },
  {
   "cell_type": "code",
   "execution_count": 9,
   "metadata": {},
   "outputs": [
    {
     "data": {
      "text/html": [
       "<div>\n",
       "<style scoped>\n",
       "    .dataframe tbody tr th:only-of-type {\n",
       "        vertical-align: middle;\n",
       "    }\n",
       "\n",
       "    .dataframe tbody tr th {\n",
       "        vertical-align: top;\n",
       "    }\n",
       "\n",
       "    .dataframe thead th {\n",
       "        text-align: right;\n",
       "    }\n",
       "</style>\n",
       "<table border=\"1\" class=\"dataframe\">\n",
       "  <thead>\n",
       "    <tr style=\"text-align: right;\">\n",
       "      <th></th>\n",
       "      <th>make</th>\n",
       "      <th>fuel-type</th>\n",
       "      <th>aspiration</th>\n",
       "      <th>num-of-doors</th>\n",
       "      <th>body-style</th>\n",
       "      <th>drive-wheels</th>\n",
       "      <th>engine-location</th>\n",
       "      <th>engine-type</th>\n",
       "      <th>num-of-cylinders</th>\n",
       "      <th>fuel-system</th>\n",
       "      <th>symboling</th>\n",
       "    </tr>\n",
       "  </thead>\n",
       "  <tbody>\n",
       "    <tr>\n",
       "      <th>0</th>\n",
       "      <td>b'alfa-romero'</td>\n",
       "      <td>b'gas'</td>\n",
       "      <td>b'std'</td>\n",
       "      <td>b'two'</td>\n",
       "      <td>b'convertible'</td>\n",
       "      <td>b'rwd'</td>\n",
       "      <td>b'front'</td>\n",
       "      <td>b'dohc'</td>\n",
       "      <td>b'four'</td>\n",
       "      <td>b'mpfi'</td>\n",
       "      <td>b'3'</td>\n",
       "    </tr>\n",
       "    <tr>\n",
       "      <th>1</th>\n",
       "      <td>b'alfa-romero'</td>\n",
       "      <td>b'gas'</td>\n",
       "      <td>b'std'</td>\n",
       "      <td>b'two'</td>\n",
       "      <td>b'convertible'</td>\n",
       "      <td>b'rwd'</td>\n",
       "      <td>b'front'</td>\n",
       "      <td>b'dohc'</td>\n",
       "      <td>b'four'</td>\n",
       "      <td>b'mpfi'</td>\n",
       "      <td>b'3'</td>\n",
       "    </tr>\n",
       "    <tr>\n",
       "      <th>2</th>\n",
       "      <td>b'alfa-romero'</td>\n",
       "      <td>b'gas'</td>\n",
       "      <td>b'std'</td>\n",
       "      <td>b'two'</td>\n",
       "      <td>b'hatchback'</td>\n",
       "      <td>b'rwd'</td>\n",
       "      <td>b'front'</td>\n",
       "      <td>b'ohcv'</td>\n",
       "      <td>b'six'</td>\n",
       "      <td>b'mpfi'</td>\n",
       "      <td>b'1'</td>\n",
       "    </tr>\n",
       "    <tr>\n",
       "      <th>3</th>\n",
       "      <td>b'audi'</td>\n",
       "      <td>b'gas'</td>\n",
       "      <td>b'std'</td>\n",
       "      <td>b'four'</td>\n",
       "      <td>b'sedan'</td>\n",
       "      <td>b'fwd'</td>\n",
       "      <td>b'front'</td>\n",
       "      <td>b'ohc'</td>\n",
       "      <td>b'four'</td>\n",
       "      <td>b'mpfi'</td>\n",
       "      <td>b'2'</td>\n",
       "    </tr>\n",
       "    <tr>\n",
       "      <th>4</th>\n",
       "      <td>b'audi'</td>\n",
       "      <td>b'gas'</td>\n",
       "      <td>b'std'</td>\n",
       "      <td>b'four'</td>\n",
       "      <td>b'sedan'</td>\n",
       "      <td>b'4wd'</td>\n",
       "      <td>b'front'</td>\n",
       "      <td>b'ohc'</td>\n",
       "      <td>b'five'</td>\n",
       "      <td>b'mpfi'</td>\n",
       "      <td>b'2'</td>\n",
       "    </tr>\n",
       "  </tbody>\n",
       "</table>\n",
       "</div>"
      ],
      "text/plain": [
       "             make fuel-type aspiration num-of-doors      body-style  \\\n",
       "0  b'alfa-romero'    b'gas'     b'std'       b'two'  b'convertible'   \n",
       "1  b'alfa-romero'    b'gas'     b'std'       b'two'  b'convertible'   \n",
       "2  b'alfa-romero'    b'gas'     b'std'       b'two'    b'hatchback'   \n",
       "3         b'audi'    b'gas'     b'std'      b'four'        b'sedan'   \n",
       "4         b'audi'    b'gas'     b'std'      b'four'        b'sedan'   \n",
       "\n",
       "  drive-wheels engine-location engine-type num-of-cylinders fuel-system  \\\n",
       "0       b'rwd'        b'front'     b'dohc'          b'four'     b'mpfi'   \n",
       "1       b'rwd'        b'front'     b'dohc'          b'four'     b'mpfi'   \n",
       "2       b'rwd'        b'front'     b'ohcv'           b'six'     b'mpfi'   \n",
       "3       b'fwd'        b'front'      b'ohc'          b'four'     b'mpfi'   \n",
       "4       b'4wd'        b'front'      b'ohc'          b'five'     b'mpfi'   \n",
       "\n",
       "  symboling  \n",
       "0      b'3'  \n",
       "1      b'3'  \n",
       "2      b'1'  \n",
       "3      b'2'  \n",
       "4      b'2'  "
      ]
     },
     "execution_count": 9,
     "metadata": {},
     "output_type": "execute_result"
    }
   ],
   "source": [
    "# Copy in order to deal with categorical data only\n",
    "cat_df = df.select_dtypes(include=['object']).copy()\n",
    "cat_df.head()"
   ]
  },
  {
   "cell_type": "code",
   "execution_count": 10,
   "metadata": {},
   "outputs": [
    {
     "name": "stdout",
     "output_type": "stream",
     "text": [
      "0\n"
     ]
    }
   ],
   "source": [
    "# Cheking for null values. Get total number of missing values\n",
    "print(cat_df.isnull().values.sum())\n",
    "# It seems like there are no missing values. \n",
    "# In other case: print(cat_df.isnull().sum()) to get features which has missing values.\n",
    "# Once I know which feature has missing values, use fillna()"
   ]
  },
  {
   "cell_type": "code",
   "execution_count": 11,
   "metadata": {},
   "outputs": [
    {
     "name": "stdout",
     "output_type": "stream",
     "text": [
      "b'toyota'           32\n",
      "b'nissan'           18\n",
      "b'mazda'            17\n",
      "b'mitsubishi'       13\n",
      "b'honda'            13\n",
      "b'subaru'           12\n",
      "b'volkswagen'       12\n",
      "b'peugot'           11\n",
      "b'volvo'            11\n",
      "b'dodge'             9\n",
      "b'bmw'               8\n",
      "b'mercedes-benz'     8\n",
      "b'audi'              7\n",
      "b'plymouth'          7\n",
      "b'saab'              6\n",
      "b'porsche'           5\n",
      "b'isuzu'             4\n",
      "b'chevrolet'         3\n",
      "b'alfa-romero'       3\n",
      "b'jaguar'            3\n",
      "b'renault'           2\n",
      "b'mercury'           1\n",
      "Name: make, dtype: int64\n"
     ]
    }
   ],
   "source": [
    "# the frequency distribution of categories within the feature\n",
    "print(cat_df['make'].value_counts())"
   ]
  },
  {
   "cell_type": "code",
   "execution_count": 12,
   "metadata": {},
   "outputs": [
    {
     "name": "stdout",
     "output_type": "stream",
     "text": [
      "b'std'      168\n",
      "b'turbo'     37\n",
      "Name: aspiration, dtype: int64\n"
     ]
    }
   ],
   "source": [
    "# the frequency distribution of categories within the feature\n",
    "print(cat_df['aspiration'].value_counts())"
   ]
  },
  {
   "cell_type": "code",
   "execution_count": 13,
   "metadata": {},
   "outputs": [
    {
     "name": "stdout",
     "output_type": "stream",
     "text": [
      "b'sedan'          96\n",
      "b'hatchback'      70\n",
      "b'wagon'          25\n",
      "b'hardtop'         8\n",
      "b'convertible'     6\n",
      "Name: body-style, dtype: int64\n"
     ]
    }
   ],
   "source": [
    "# the frequency distribution of categories within the feature\n",
    "print(cat_df['body-style'].value_counts())"
   ]
  },
  {
   "cell_type": "code",
   "execution_count": 14,
   "metadata": {},
   "outputs": [
    {
     "name": "stdout",
     "output_type": "stream",
     "text": [
      "b'mpfi'    94\n",
      "b'2bbl'    66\n",
      "b'idi'     20\n",
      "b'1bbl'    11\n",
      "b'spdi'     9\n",
      "b'4bbl'     3\n",
      "b'mfi'      1\n",
      "b'spfi'     1\n",
      "Name: fuel-system, dtype: int64\n"
     ]
    }
   ],
   "source": [
    "# the frequency distribution of categories within the feature\n",
    "print(cat_df['fuel-system'].value_counts())"
   ]
  },
  {
   "cell_type": "code",
   "execution_count": 15,
   "metadata": {},
   "outputs": [
    {
     "name": "stdout",
     "output_type": "stream",
     "text": [
      "8\n"
     ]
    }
   ],
   "source": [
    "# To know the count of distinct categories within the feature\n",
    "print(cat_df['fuel-system'].value_counts().count())"
   ]
  },
  {
   "cell_type": "code",
   "execution_count": 18,
   "metadata": {},
   "outputs": [
    {
     "data": {
      "image/png": "[encoded data removed]",
      "text/plain": [
       "<Figure size 432x288 with 1 Axes>"
      ]
     },
     "metadata": {},
     "output_type": "display_data"
    }
   ],
   "source": [
    "fuel_system_count = cat_df['fuel-system'].value_counts()\n",
    "sns.set(style=\"darkgrid\")\n",
    "sns.barplot(fuel_system_count.index, fuel_system_count.values, alpha=0.9)\n",
    "plt.title('Frequency Distribution of fuel system')\n",
    "plt.ylabel('Number of Occurrences', fontsize=12)\n",
    "plt.xlabel('Fuel System', fontsize=12)\n",
    "plt.show()"
   ]
  },
  {
   "cell_type": "code",
   "execution_count": 19,
   "metadata": {},
   "outputs": [
    {
     "data": {
      "image/png": "[encoded data removed]",
      "text/plain": [
       "<Figure size 432x288 with 1 Axes>"
      ]
     },
     "metadata": {},
     "output_type": "display_data"
    }
   ],
   "source": [
    "labels = cat_df['fuel-system'].astype('category').cat.categories.tolist()\n",
    "counts = cat_df['fuel-system'].value_counts()\n",
    "sizes = [counts[var_cat] for var_cat in labels]\n",
    "fig1, ax1 = plt.subplots()\n",
    "ax1.pie(sizes, labels=labels, autopct='%1.1f%%', shadow=True) #autopct is show the % on plot\n",
    "ax1.axis('equal')\n",
    "plt.show()"
   ]
  },
  {
   "cell_type": "code",
   "execution_count": 22,
   "metadata": {},
   "outputs": [
    {
     "data": {
      "text/html": [
       "<div>\n",
       "<style scoped>\n",
       "    .dataframe tbody tr th:only-of-type {\n",
       "        vertical-align: middle;\n",
       "    }\n",
       "\n",
       "    .dataframe tbody tr th {\n",
       "        vertical-align: top;\n",
       "    }\n",
       "\n",
       "    .dataframe thead th {\n",
       "        text-align: right;\n",
       "    }\n",
       "</style>\n",
       "<table border=\"1\" class=\"dataframe\">\n",
       "  <thead>\n",
       "    <tr style=\"text-align: right;\">\n",
       "      <th></th>\n",
       "      <th>make</th>\n",
       "      <th>fuel-type</th>\n",
       "      <th>aspiration</th>\n",
       "      <th>num-of-doors</th>\n",
       "      <th>body-style</th>\n",
       "      <th>drive-wheels</th>\n",
       "      <th>engine-location</th>\n",
       "      <th>engine-type</th>\n",
       "      <th>num-of-cylinders</th>\n",
       "      <th>symboling</th>\n",
       "      <th>fuel-system_b'1bbl'</th>\n",
       "      <th>fuel-system_b'2bbl'</th>\n",
       "      <th>fuel-system_b'4bbl'</th>\n",
       "      <th>fuel-system_b'idi'</th>\n",
       "      <th>fuel-system_b'mfi'</th>\n",
       "      <th>fuel-system_b'mpfi'</th>\n",
       "      <th>fuel-system_b'spdi'</th>\n",
       "      <th>fuel-system_b'spfi'</th>\n",
       "    </tr>\n",
       "  </thead>\n",
       "  <tbody>\n",
       "    <tr>\n",
       "      <th>0</th>\n",
       "      <td>b'alfa-romero'</td>\n",
       "      <td>b'gas'</td>\n",
       "      <td>b'std'</td>\n",
       "      <td>b'two'</td>\n",
       "      <td>b'convertible'</td>\n",
       "      <td>b'rwd'</td>\n",
       "      <td>b'front'</td>\n",
       "      <td>b'dohc'</td>\n",
       "      <td>b'four'</td>\n",
       "      <td>b'3'</td>\n",
       "      <td>0</td>\n",
       "      <td>0</td>\n",
       "      <td>0</td>\n",
       "      <td>0</td>\n",
       "      <td>0</td>\n",
       "      <td>1</td>\n",
       "      <td>0</td>\n",
       "      <td>0</td>\n",
       "    </tr>\n",
       "    <tr>\n",
       "      <th>1</th>\n",
       "      <td>b'alfa-romero'</td>\n",
       "      <td>b'gas'</td>\n",
       "      <td>b'std'</td>\n",
       "      <td>b'two'</td>\n",
       "      <td>b'convertible'</td>\n",
       "      <td>b'rwd'</td>\n",
       "      <td>b'front'</td>\n",
       "      <td>b'dohc'</td>\n",
       "      <td>b'four'</td>\n",
       "      <td>b'3'</td>\n",
       "      <td>0</td>\n",
       "      <td>0</td>\n",
       "      <td>0</td>\n",
       "      <td>0</td>\n",
       "      <td>0</td>\n",
       "      <td>1</td>\n",
       "      <td>0</td>\n",
       "      <td>0</td>\n",
       "    </tr>\n",
       "    <tr>\n",
       "      <th>2</th>\n",
       "      <td>b'alfa-romero'</td>\n",
       "      <td>b'gas'</td>\n",
       "      <td>b'std'</td>\n",
       "      <td>b'two'</td>\n",
       "      <td>b'hatchback'</td>\n",
       "      <td>b'rwd'</td>\n",
       "      <td>b'front'</td>\n",
       "      <td>b'ohcv'</td>\n",
       "      <td>b'six'</td>\n",
       "      <td>b'1'</td>\n",
       "      <td>0</td>\n",
       "      <td>0</td>\n",
       "      <td>0</td>\n",
       "      <td>0</td>\n",
       "      <td>0</td>\n",
       "      <td>1</td>\n",
       "      <td>0</td>\n",
       "      <td>0</td>\n",
       "    </tr>\n",
       "    <tr>\n",
       "      <th>3</th>\n",
       "      <td>b'audi'</td>\n",
       "      <td>b'gas'</td>\n",
       "      <td>b'std'</td>\n",
       "      <td>b'four'</td>\n",
       "      <td>b'sedan'</td>\n",
       "      <td>b'fwd'</td>\n",
       "      <td>b'front'</td>\n",
       "      <td>b'ohc'</td>\n",
       "      <td>b'four'</td>\n",
       "      <td>b'2'</td>\n",
       "      <td>0</td>\n",
       "      <td>0</td>\n",
       "      <td>0</td>\n",
       "      <td>0</td>\n",
       "      <td>0</td>\n",
       "      <td>1</td>\n",
       "      <td>0</td>\n",
       "      <td>0</td>\n",
       "    </tr>\n",
       "    <tr>\n",
       "      <th>4</th>\n",
       "      <td>b'audi'</td>\n",
       "      <td>b'gas'</td>\n",
       "      <td>b'std'</td>\n",
       "      <td>b'four'</td>\n",
       "      <td>b'sedan'</td>\n",
       "      <td>b'4wd'</td>\n",
       "      <td>b'front'</td>\n",
       "      <td>b'ohc'</td>\n",
       "      <td>b'five'</td>\n",
       "      <td>b'2'</td>\n",
       "      <td>0</td>\n",
       "      <td>0</td>\n",
       "      <td>0</td>\n",
       "      <td>0</td>\n",
       "      <td>0</td>\n",
       "      <td>1</td>\n",
       "      <td>0</td>\n",
       "      <td>0</td>\n",
       "    </tr>\n",
       "  </tbody>\n",
       "</table>\n",
       "</div>"
      ],
      "text/plain": [
       "             make fuel-type aspiration num-of-doors      body-style  \\\n",
       "0  b'alfa-romero'    b'gas'     b'std'       b'two'  b'convertible'   \n",
       "1  b'alfa-romero'    b'gas'     b'std'       b'two'  b'convertible'   \n",
       "2  b'alfa-romero'    b'gas'     b'std'       b'two'    b'hatchback'   \n",
       "3         b'audi'    b'gas'     b'std'      b'four'        b'sedan'   \n",
       "4         b'audi'    b'gas'     b'std'      b'four'        b'sedan'   \n",
       "\n",
       "  drive-wheels engine-location engine-type num-of-cylinders symboling  \\\n",
       "0       b'rwd'        b'front'     b'dohc'          b'four'      b'3'   \n",
       "1       b'rwd'        b'front'     b'dohc'          b'four'      b'3'   \n",
       "2       b'rwd'        b'front'     b'ohcv'           b'six'      b'1'   \n",
       "3       b'fwd'        b'front'      b'ohc'          b'four'      b'2'   \n",
       "4       b'4wd'        b'front'      b'ohc'          b'five'      b'2'   \n",
       "\n",
       "   fuel-system_b'1bbl'  fuel-system_b'2bbl'  fuel-system_b'4bbl'  \\\n",
       "0                    0                    0                    0   \n",
       "1                    0                    0                    0   \n",
       "2                    0                    0                    0   \n",
       "3                    0                    0                    0   \n",
       "4                    0                    0                    0   \n",
       "\n",
       "   fuel-system_b'idi'  fuel-system_b'mfi'  fuel-system_b'mpfi'  \\\n",
       "0                   0                   0                    1   \n",
       "1                   0                   0                    1   \n",
       "2                   0                   0                    1   \n",
       "3                   0                   0                    1   \n",
       "4                   0                   0                    1   \n",
       "\n",
       "   fuel-system_b'spdi'  fuel-system_b'spfi'  \n",
       "0                    0                    0  \n",
       "1                    0                    0  \n",
       "2                    0                    0  \n",
       "3                    0                    0  \n",
       "4                    0                    0  "
      ]
     },
     "execution_count": 22,
     "metadata": {},
     "output_type": "execute_result"
    }
   ],
   "source": [
    "cat_df_onehot = cat_df.copy()\n",
    "cat_df_onehot = pd.get_dummies(cat_df_onehot, columns=['fuel-system'], prefix = ['fuel-system'])\n",
    "cat_df_onehot.head()"
   ]
  },
  {
   "cell_type": "code",
   "execution_count": 16,
   "metadata": {},
   "outputs": [],
   "source": [
    "#df.dtypes.unique()"
   ]
  },
  {
   "cell_type": "code",
   "execution_count": 17,
   "metadata": {
    "scrolled": true
   },
   "outputs": [],
   "source": [
    "#df.pivot(columns='make',values='make').add_prefix('Make').reset_index()\n",
    "#df.head()"
   ]
  },
  {
   "cell_type": "code",
   "execution_count": null,
   "metadata": {},
   "outputs": [],
   "source": []
  },
  {
   "cell_type": "markdown",
   "metadata": {},
   "source": []
  }
 ],
 "metadata": {
  "kernelspec": {
   "display_name": "Python 3",
   "language": "python",
   "name": "python3"
  },
  "language_info": {
   "codemirror_mode": {
    "name": "ipython",
    "version": 3
   },
   "file_extension": ".py",
   "mimetype": "text/x-python",
   "name": "python",
   "nbconvert_exporter": "python",
   "pygments_lexer": "ipython3",
   "version": "3.7.3"
  }
 },
 "nbformat": 4,
 "nbformat_minor": 2
}
